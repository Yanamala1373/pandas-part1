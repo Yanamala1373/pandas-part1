{
 "cells": [
  {
   "cell_type": "code",
   "execution_count": 2,
   "id": "af310dcd",
   "metadata": {},
   "outputs": [
    {
     "name": "stdout",
     "output_type": "stream",
     "text": [
      "     Pregnancies  Glucose  BloodPressure  SkinThickness  Insulin   BMI  \\\n",
      "0              6      148             72             35        0  33.6   \n",
      "1              1       85             66             29        0  26.6   \n",
      "2              8      183             64              0        0  23.3   \n",
      "3              1       89             66             23       94  28.1   \n",
      "4              0      137             40             35      168  43.1   \n",
      "..           ...      ...            ...            ...      ...   ...   \n",
      "763           10      101             76             48      180  32.9   \n",
      "764            2      122             70             27        0  36.8   \n",
      "765            5      121             72             23      112  26.2   \n",
      "766            1      126             60              0        0  30.1   \n",
      "767            1       93             70             31        0  30.4   \n",
      "\n",
      "     DiabetesPedigreeFunction  Age  Outcome  \n",
      "0                       0.627   50        1  \n",
      "1                       0.351   31        0  \n",
      "2                       0.672   32        1  \n",
      "3                       0.167   21        0  \n",
      "4                       2.288   33        1  \n",
      "..                        ...  ...      ...  \n",
      "763                     0.171   63        0  \n",
      "764                     0.340   27        0  \n",
      "765                     0.245   30        0  \n",
      "766                     0.349   47        1  \n",
      "767                     0.315   23        0  \n",
      "\n",
      "[768 rows x 9 columns]\n"
     ]
    }
   ],
   "source": [
    " #BASIC OPERATIONS ON PANDAS DATAFRAMES\n",
    "\n",
    "\n",
    "import numpy as np\n",
    "import pandas as pd\n",
    "import matplotlib.pyplot as plt\n",
    "df=pd.read_csv(\"C:\\\\Users\\\\yanam\\\\Desktop\\\\data science\\\\diabetes.csv\")\n",
    "print(df)"
   ]
  },
  {
   "cell_type": "code",
   "execution_count": 3,
   "id": "ea10a5d2",
   "metadata": {},
   "outputs": [
    {
     "name": "stdout",
     "output_type": "stream",
     "text": [
      "   Pregnancies  Glucose  BloodPressure  SkinThickness  Insulin   BMI  \\\n",
      "0            6      148             72             35        0  33.6   \n",
      "1            1       85             66             29        0  26.6   \n",
      "2            8      183             64              0        0  23.3   \n",
      "3            1       89             66             23       94  28.1   \n",
      "4            0      137             40             35      168  43.1   \n",
      "\n",
      "   DiabetesPedigreeFunction  Age  Outcome  \n",
      "0                     0.627   50        1  \n",
      "1                     0.351   31        0  \n",
      "2                     0.672   32        1  \n",
      "3                     0.167   21        0  \n",
      "4                     2.288   33        1  \n"
     ]
    }
   ],
   "source": [
    "print(df.head())"
   ]
  },
  {
   "cell_type": "code",
   "execution_count": 4,
   "id": "1448c83d",
   "metadata": {},
   "outputs": [
    {
     "name": "stdout",
     "output_type": "stream",
     "text": [
      "   Pregnancies  Glucose  BloodPressure  SkinThickness  Insulin   BMI  \\\n",
      "0            6      148             72             35        0  33.6   \n",
      "1            1       85             66             29        0  26.6   \n",
      "2            8      183             64              0        0  23.3   \n",
      "3            1       89             66             23       94  28.1   \n",
      "4            0      137             40             35      168  43.1   \n",
      "5            5      116             74              0        0  25.6   \n",
      "6            3       78             50             32       88  31.0   \n",
      "7           10      115              0              0        0  35.3   \n",
      "\n",
      "   DiabetesPedigreeFunction  Age  Outcome  \n",
      "0                     0.627   50        1  \n",
      "1                     0.351   31        0  \n",
      "2                     0.672   32        1  \n",
      "3                     0.167   21        0  \n",
      "4                     2.288   33        1  \n",
      "5                     0.201   30        0  \n",
      "6                     0.248   26        1  \n",
      "7                     0.134   29        0  \n"
     ]
    }
   ],
   "source": [
    "print(df.head(n=8))"
   ]
  },
  {
   "cell_type": "code",
   "execution_count": 8,
   "id": "35d6350b",
   "metadata": {},
   "outputs": [
    {
     "name": "stdout",
     "output_type": "stream",
     "text": [
      "     Pregnancies  Glucose  BloodPressure  SkinThickness  Insulin   BMI  \\\n",
      "763           10      101             76             48      180  32.9   \n",
      "764            2      122             70             27        0  36.8   \n",
      "765            5      121             72             23      112  26.2   \n",
      "766            1      126             60              0        0  30.1   \n",
      "767            1       93             70             31        0  30.4   \n",
      "\n",
      "     DiabetesPedigreeFunction  Age  Outcome  \n",
      "763                     0.171   63        0  \n",
      "764                     0.340   27        0  \n",
      "765                     0.245   30        0  \n",
      "766                     0.349   47        1  \n",
      "767                     0.315   23        0        Pregnancies  Glucose  BloodPressure  SkinThickness  Insulin   BMI  \\\n",
      "760            2       88             58             26       16  28.4   \n",
      "761            9      170             74             31        0  44.0   \n",
      "762            9       89             62              0        0  22.5   \n",
      "763           10      101             76             48      180  32.9   \n",
      "764            2      122             70             27        0  36.8   \n",
      "765            5      121             72             23      112  26.2   \n",
      "766            1      126             60              0        0  30.1   \n",
      "767            1       93             70             31        0  30.4   \n",
      "\n",
      "     DiabetesPedigreeFunction  Age  Outcome  \n",
      "760                     0.766   22        0  \n",
      "761                     0.403   43        1  \n",
      "762                     0.142   33        0  \n",
      "763                     0.171   63        0  \n",
      "764                     0.340   27        0  \n",
      "765                     0.245   30        0  \n",
      "766                     0.349   47        1  \n",
      "767                     0.315   23        0  \n"
     ]
    }
   ],
   "source": [
    "print(df.tail(),df.tail(n=8))"
   ]
  },
  {
   "cell_type": "code",
   "execution_count": 11,
   "id": "e85e5940",
   "metadata": {},
   "outputs": [
    {
     "name": "stdout",
     "output_type": "stream",
     "text": [
      "     Pregnancies  Glucose  BloodPressure  SkinThickness  Insulin   BMI  \\\n",
      "387            8      105            100             36        0  43.3   \n",
      "\n",
      "     DiabetesPedigreeFunction  Age  Outcome  \n",
      "387                     0.239   45        1  \n",
      "\n",
      "\n",
      "     Pregnancies  Glucose  BloodPressure  SkinThickness  Insulin   BMI  \\\n",
      "537            0       57             60              0        0  21.7   \n",
      "67             2      109             92              0        0  42.7   \n",
      "274           13      106             70              0        0  34.2   \n",
      "193           11      135              0              0        0  52.3   \n",
      "475            0      137             84             27        0  27.3   \n",
      "68             1       95             66             13       38  19.6   \n",
      "\n",
      "     DiabetesPedigreeFunction  Age  Outcome  \n",
      "537                     0.735   67        0  \n",
      "67                      0.845   54        0  \n",
      "274                     0.251   52        0  \n",
      "193                     0.578   40        1  \n",
      "475                     0.231   59        0  \n",
      "68                      0.334   25        0  \n"
     ]
    }
   ],
   "source": [
    "#sample function used to get random sample from dataframe\n",
    "print(df.sample())\n",
    "print(\"\\n\")\n",
    "#sample of 6 random records\n",
    "print(df.sample(n=6))"
   ]
  },
  {
   "cell_type": "code",
   "execution_count": 13,
   "id": "aee3e044",
   "metadata": {},
   "outputs": [
    {
     "name": "stdout",
     "output_type": "stream",
     "text": [
      "   Pregnancies  Glucose\n",
      "0            6      148\n",
      "1            1       85\n",
      "2            8      183\n",
      "3            1       89\n",
      "4            0      137\n"
     ]
    }
   ],
   "source": [
    "#to Acess particular elements of rows and columns are specified  with their names\n",
    "print(df[['Pregnancies','Glucose']].head())"
   ]
  },
  {
   "cell_type": "code",
   "execution_count": 21,
   "id": "f470cfb5",
   "metadata": {},
   "outputs": [
    {
     "name": "stdout",
     "output_type": "stream",
     "text": [
      "   Pregnancies  Glucose  BloodPressure  SkinThickness  Insulin   BMI  \\\n",
      "0            6      148             72             35        0  33.6   \n",
      "1            1       85             66             29        0  26.6   \n",
      "2            8      183             64              0        0  23.3   \n",
      "3            1       89             66             23       94  28.1   \n",
      "4            0      137             40             35      168  43.1   \n",
      "\n",
      "   DiabetesPedigreeFunction  Age  Outcome  \n",
      "0                     0.627   50        1  \n",
      "1                     0.351   31        0  \n",
      "2                     0.672   32        1  \n",
      "3                     0.167   21        0  \n",
      "4                     2.288   33        1  \n"
     ]
    }
   ],
   "source": [
    "#to Acess particular elements of rows and columns are not  specified we use indexing\n",
    "print(df[0:5])\n"
   ]
  },
  {
   "cell_type": "code",
   "execution_count": 23,
   "id": "7c665daa",
   "metadata": {},
   "outputs": [
    {
     "name": "stdout",
     "output_type": "stream",
     "text": [
      "   Pregnancies  Glucose  BloodPressure  SkinThickness  Insulin   BMI  \\\n",
      "5            5      116             74              0        0  25.6   \n",
      "7           10      115              0              0        0  35.3   \n",
      "1            1       85             66             29        0  26.6   \n",
      "\n",
      "   DiabetesPedigreeFunction  Age  Outcome  \n",
      "5                     0.201   30        0  \n",
      "7                     0.134   29        0  \n",
      "1                     0.351   31        0  \n"
     ]
    }
   ],
   "source": [
    "#to Acess particular elements of rows and columns are specified  with their Index\n",
    "#prints the specified colums in loc means location so that in given order\n",
    "print(df.loc[[5,7,1]])\n"
   ]
  },
  {
   "cell_type": "code",
   "execution_count": 25,
   "id": "4a989942",
   "metadata": {},
   "outputs": [
    {
     "name": "stdout",
     "output_type": "stream",
     "text": [
      "    Pregnancies  Glucose  BloodPressure  SkinThickness  Insulin   BMI  \\\n",
      "20            3      126             88             41      235  39.3   \n",
      "21            8       99             84              0        0  35.4   \n",
      "22            7      196             90              0        0  39.8   \n",
      "23            9      119             80             35        0  29.0   \n",
      "24           11      143             94             33      146  36.6   \n",
      "25           10      125             70             26      115  31.1   \n",
      "26            7      147             76              0        0  39.4   \n",
      "27            1       97             66             15      140  23.2   \n",
      "28           13      145             82             19      110  22.2   \n",
      "29            5      117             92              0        0  34.1   \n",
      "30            5      109             75             26        0  36.0   \n",
      "31            3      158             76             36      245  31.6   \n",
      "32            3       88             58             11       54  24.8   \n",
      "33            6       92             92              0        0  19.9   \n",
      "34           10      122             78             31        0  27.6   \n",
      "35            4      103             60             33      192  24.0   \n",
      "36           11      138             76              0        0  33.2   \n",
      "37            9      102             76             37        0  32.9   \n",
      "38            2       90             68             42        0  38.2   \n",
      "39            4      111             72             47      207  37.1   \n",
      "40            3      180             64             25       70  34.0   \n",
      "41            7      133             84              0        0  40.2   \n",
      "42            7      106             92             18        0  22.7   \n",
      "43            9      171            110             24      240  45.4   \n",
      "44            7      159             64              0        0  27.4   \n",
      "45            0      180             66             39        0  42.0   \n",
      "46            1      146             56              0        0  29.7   \n",
      "47            2       71             70             27        0  28.0   \n",
      "48            7      103             66             32        0  39.1   \n",
      "49            7      105              0              0        0   0.0   \n",
      "\n",
      "    DiabetesPedigreeFunction  Age  Outcome  \n",
      "20                     0.704   27        0  \n",
      "21                     0.388   50        0  \n",
      "22                     0.451   41        1  \n",
      "23                     0.263   29        1  \n",
      "24                     0.254   51        1  \n",
      "25                     0.205   41        1  \n",
      "26                     0.257   43        1  \n",
      "27                     0.487   22        0  \n",
      "28                     0.245   57        0  \n",
      "29                     0.337   38        0  \n",
      "30                     0.546   60        0  \n",
      "31                     0.851   28        1  \n",
      "32                     0.267   22        0  \n",
      "33                     0.188   28        0  \n",
      "34                     0.512   45        0  \n",
      "35                     0.966   33        0  \n",
      "36                     0.420   35        0  \n",
      "37                     0.665   46        1  \n",
      "38                     0.503   27        1  \n",
      "39                     1.390   56        1  \n",
      "40                     0.271   26        0  \n",
      "41                     0.696   37        0  \n",
      "42                     0.235   48        0  \n",
      "43                     0.721   54        1  \n",
      "44                     0.294   40        0  \n",
      "45                     1.893   25        1  \n",
      "46                     0.564   29        0  \n",
      "47                     0.586   22        0  \n",
      "48                     0.344   31        1  \n",
      "49                     0.305   24        0  \n"
     ]
    }
   ],
   "source": [
    "#we can use indexing when you know the range of required frames\n",
    "print(df.iloc[20:50])"
   ]
  },
  {
   "cell_type": "code",
   "execution_count": 26,
   "id": "7e14224f",
   "metadata": {},
   "outputs": [
    {
     "name": "stdout",
     "output_type": "stream",
     "text": [
      "    Pregnancies  Glucose  BloodPressure  SkinThickness  Insulin\n",
      "20            3      126             88             41      235\n",
      "21            8       99             84              0        0\n",
      "22            7      196             90              0        0\n",
      "23            9      119             80             35        0\n",
      "24           11      143             94             33      146\n",
      "25           10      125             70             26      115\n",
      "26            7      147             76              0        0\n",
      "27            1       97             66             15      140\n",
      "28           13      145             82             19      110\n",
      "29            5      117             92              0        0\n",
      "30            5      109             75             26        0\n",
      "31            3      158             76             36      245\n",
      "32            3       88             58             11       54\n",
      "33            6       92             92              0        0\n",
      "34           10      122             78             31        0\n",
      "35            4      103             60             33      192\n",
      "36           11      138             76              0        0\n",
      "37            9      102             76             37        0\n",
      "38            2       90             68             42        0\n",
      "39            4      111             72             47      207\n",
      "40            3      180             64             25       70\n",
      "41            7      133             84              0        0\n",
      "42            7      106             92             18        0\n",
      "43            9      171            110             24      240\n",
      "44            7      159             64              0        0\n",
      "45            0      180             66             39        0\n",
      "46            1      146             56              0        0\n",
      "47            2       71             70             27        0\n",
      "48            7      103             66             32        0\n",
      "49            7      105              0              0        0\n"
     ]
    }
   ],
   "source": [
    "#if we want restrict the data for particular rows  and columns then,i want print data from 20th row to 50 up to 4 coloumns only \n",
    "print(df.iloc[20:50,:5])"
   ]
  },
  {
   "cell_type": "code",
   "execution_count": 32,
   "id": "e674acbc",
   "metadata": {},
   "outputs": [
    {
     "name": "stdout",
     "output_type": "stream",
     "text": [
      "    Pregnancies  Glucose  BloodPressure  SkinThickness  Insulin   BMI  \\\n",
      "2             8      183             64              0        0  23.3   \n",
      "7            10      115              0              0        0  35.3   \n",
      "9             8      125             96              0        0   0.0   \n",
      "11           10      168             74              0        0  38.0   \n",
      "12           10      139             80              0        0  27.1   \n",
      "\n",
      "    DiabetesPedigreeFunction  Age  Outcome  \n",
      "2                      0.672   32        1  \n",
      "7                      0.134   29        0  \n",
      "9                      0.232   54        1  \n",
      "11                     0.537   34        1  \n",
      "12                     1.441   57        0  \n"
     ]
    }
   ],
   "source": [
    "# we can retrive the data from DF bases on conditions like this  \n",
    "print(df.loc[df['Pregnancies']>6].head(n=5))"
   ]
  },
  {
   "cell_type": "code",
   "execution_count": 39,
   "id": "c5a68f93",
   "metadata": {},
   "outputs": [
    {
     "name": "stdout",
     "output_type": "stream",
     "text": [
      "     Pregnancies  Glucose  BloodPressure  SkinThickness  Insulin   BMI    DPF  \\\n",
      "763           10      101             76             48      180  32.9  0.171   \n",
      "764            2      122             70             27        0  36.8  0.340   \n",
      "765            5      121             72             23      112  26.2  0.245   \n",
      "766            1      126             60              0        0  30.1  0.349   \n",
      "767            1       93             70             31        0  30.4  0.315   \n",
      "\n",
      "     age  Outcome  \n",
      "763   63        0  \n",
      "764   27        0  \n",
      "765   30        0  \n",
      "766   47        1  \n",
      "767   23        0  \n",
      "     Pregnancies  Glucose  BloodPressure  SkinThickness  Insulin   BMI    DPF  \\\n",
      "763           10      101             76             48      180  32.9  0.171   \n",
      "764            2      122             70             27        0  36.8  0.340   \n",
      "765            5      121             72             23      112  26.2  0.245   \n",
      "766            1      126             60              0        0  30.1  0.349   \n",
      "767            1       93             70             31        0  30.4  0.315   \n",
      "\n",
      "     age  Outcome  \n",
      "763   63        0  \n",
      "764   27        0  \n",
      "765   30        0  \n",
      "766   47        1  \n",
      "767   23        0  \n"
     ]
    }
   ],
   "source": [
    "#Renaming function used to reanme the required coloumn data\n",
    "a=df.rename(columns={\"Age\":\"age\",\"DiabetesPedigreeFunction\":\"DPF\"}).tail()\n",
    "print(a)\n",
    "#a is deep copy so that  the changes that are done in the DataFrame df is given to a not in main df\n",
    "print(df)"
   ]
  },
  {
   "cell_type": "code",
   "execution_count": 46,
   "id": "510badf1",
   "metadata": {},
   "outputs": [
    {
     "name": "stdout",
     "output_type": "stream",
     "text": [
      "     Pregnancies  Glucose  BloodPressure  SkinThickness  Insulin   BMI    DPF\n",
      "763           10      101             76             48      180  32.9  0.171\n",
      "764            2      122             70             27        0  36.8  0.340\n",
      "765            5      121             72             23      112  26.2  0.245\n",
      "766            1      126             60              0        0  30.1  0.349\n",
      "767            1       93             70             31        0  30.4  0.315\n",
      "     Pregnancies  Glucose  BloodPressure  SkinThickness  Insulin   BMI    DPF  \\\n",
      "763           10      101             76             48      180  32.9  0.171   \n",
      "764            2      122             70             27        0  36.8  0.340   \n",
      "765            5      121             72             23      112  26.2  0.245   \n",
      "766            1      126             60              0        0  30.1  0.349   \n",
      "767            1       93             70             31        0  30.4  0.315   \n",
      "\n",
      "     age  Outcome  \n",
      "763   63        0  \n",
      "764   27        0  \n",
      "765   30        0  \n",
      "766   47        1  \n",
      "767   23        0  \n"
     ]
    }
   ],
   "source": [
    "#droping a column or row for  Data Frame  is mostly used thing as follows\n",
    "'''DataFrame.drop(labels=None, axis=0 for rows and 1 for column, index=None, columns=None,\n",
    "level=None, inplace=False, errors=’raise’)'''\n",
    "print(df.drop(labels=['age','Outcome'],axis=1).head())\n",
    "print(df)\n"
   ]
  },
  {
   "cell_type": "code",
   "execution_count": null,
   "id": "6b92ef0e",
   "metadata": {},
   "outputs": [],
   "source": []
  }
 ],
 "metadata": {
  "kernelspec": {
   "display_name": "Python 3 (ipykernel)",
   "language": "python",
   "name": "python3"
  },
  "language_info": {
   "codemirror_mode": {
    "name": "ipython",
    "version": 3
   },
   "file_extension": ".py",
   "mimetype": "text/x-python",
   "name": "python",
   "nbconvert_exporter": "python",
   "pygments_lexer": "ipython3",
   "version": "3.11.5"
  }
 },
 "nbformat": 4,
 "nbformat_minor": 5
}
